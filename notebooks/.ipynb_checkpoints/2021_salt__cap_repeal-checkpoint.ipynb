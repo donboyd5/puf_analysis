{
 "cells": [
  {
   "cell_type": "code",
   "execution_count": 9,
   "metadata": {},
   "outputs": [],
   "source": [
    "import taxcalc as tc\n"
   ]
  },
  {
   "cell_type": "code",
   "execution_count": 10,
   "metadata": {},
   "outputs": [],
   "source": [
    "recs = tc.Records()\n",
    "pol = tc.Policy()\n",
    "calc1 = tc.Calculator(policy=pol, records=recs)"
   ]
  },
  {
   "cell_type": "code",
   "execution_count": 11,
   "metadata": {},
   "outputs": [],
   "source": [
    "CYR = 2021\n",
    "calc1.advance_to_year(CYR)\n",
    "calc1.calc_all()\n",
    "itax_rev1 = calc1.weighted_total('iitax')\n"
   ]
  },
  {
   "cell_type": "code",
   "execution_count": 16,
   "metadata": {},
   "outputs": [],
   "source": [
    "reform_filename = 'reform_salt.json'\n",
    "params = tc.Calculator.read_json_param_objects(reform_filename, None)\n",
    "pol.implement_reform(params['policy'])\n",
    "calc2 = tc.Calculator(policy=pol, records=recs)\n",
    "calc2.advance_to_year(CYR)\n",
    "calc2.calc_all()\n",
    "itax_rev2 = calc2.weighted_total('iitax')"
   ]
  },
  {
   "cell_type": "code",
   "execution_count": 19,
   "metadata": {},
   "outputs": [
    {
     "name": "stdout",
     "output_type": "stream",
     "text": [
      "2021_CLP_itax_rev($B) = 1189.432\n",
      "2021_REF_itax_rev($B) = 1109.253\n"
     ]
    }
   ],
   "source": [
    "print('{}_CLP_itax_rev($B) = {:.3f}'.format(CYR, itax_rev1 * 1e-9))\n",
    "print('{}_REF_itax_rev($B) = {:.3f}'.format(CYR, itax_rev2 * 1e-9))"
   ]
  },
  {
   "cell_type": "code",
   "execution_count": 21,
   "metadata": {},
   "outputs": [
    {
     "name": "stdout",
     "output_type": "stream",
     "text": [
      "2021_DIFF_itax_rev($B) = -80.178\n"
     ]
    }
   ],
   "source": [
    "print('{}_DIFF_itax_rev($B) = {:.3f}'.format(CYR, (itax_rev2 - itax_rev1) * 1e-9))"
   ]
  },
  {
   "cell_type": "code",
   "execution_count": null,
   "metadata": {},
   "outputs": [],
   "source": []
  }
 ],
 "metadata": {
  "kernelspec": {
   "display_name": "Python 3",
   "language": "python",
   "name": "python3"
  },
  "language_info": {
   "codemirror_mode": {
    "name": "ipython",
    "version": 3
   },
   "file_extension": ".py",
   "mimetype": "text/x-python",
   "name": "python",
   "nbconvert_exporter": "python",
   "pygments_lexer": "ipython3",
   "version": "3.7.3"
  }
 },
 "nbformat": 4,
 "nbformat_minor": 5
}
